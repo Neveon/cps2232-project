{
 "cells": [
  {
   "cell_type": "markdown",
   "metadata": {},
   "source": [
    "# Formatting to CSV\n",
    "\n",
    "```python\n",
    "# xarray used for reformatting netCDF to CSV\n",
    "import xarray as xr\n",
    "\n",
    "# opening netCDF file using xarray\n",
    "x_ds = xr.open_dataset('~/Desktop/cs_project/TRMM_2.5x2.5.nc')\n",
    "\n",
    "# Using precipitation weather data to create a csv file\n",
    "x_ds.PREC[:].to_dataframe().to_csv('~/Desktop/cs_project/prec.csv')\n",
    "```"
   ]
  },
  {
   "cell_type": "markdown",
   "metadata": {},
   "source": [
    "# Data Analysis using Pandas"
   ]
  },
  {
   "cell_type": "code",
   "execution_count": 8,
   "metadata": {},
   "outputs": [
    {
     "name": "stdout",
     "output_type": "stream",
     "text": [
      "Date shape: (83296512, 4)\n",
      "Size of DataFrame: 333186048\n",
      "TIME attribute information: 19980101.0 <class 'numpy.float64'>\n"
     ]
    }
   ],
   "source": [
    "import pandas as pd\n",
    "\n",
    "# Reading csv file with Pandas which created a dataframe\n",
    "weather = pd.read_csv('~/Desktop/cs_project/prec.csv')\n",
    "\n",
    "# print dimensions of the CSV file\n",
    "print('Date shape: ' + str(weather.shape))\n",
    "\n",
    "# print the size of the DataFrame\n",
    "print('Size of DataFrame: ' + str(weather.size))\n",
    "\n",
    "# Notice the weather time is a float type\n",
    "print('TIME attribute information: ' + str(weather.TIME[0]) + ' ' + str(type(weather.TIME[0])))"
   ]
  },
  {
   "cell_type": "code",
   "execution_count": 15,
   "metadata": {},
   "outputs": [
    {
     "name": "stdout",
     "output_type": "stream",
     "text": [
      "         TIME    LAT    LON       PREC\n",
      "0  19980101.0 -88.75   1.25   9.262500\n",
      "1  19980101.0 -88.75   3.75  14.422500\n",
      "2  19980101.0 -88.75   6.25  11.647500\n",
      "3  19980101.0 -88.75   8.75  14.722500\n",
      "4  19980101.0 -88.75  11.25   7.664999\n"
     ]
    }
   ],
   "source": [
    "# Print first 5 rows of the DataFrame\n",
    "print(weather.head())"
   ]
  },
  {
   "cell_type": "code",
   "execution_count": 6,
   "metadata": {},
   "outputs": [
    {
     "name": "stdout",
     "output_type": "stream",
     "text": [
      "            TIME    LAT    LON  PREC\n",
      "2880  19980101.0 -38.75   1.25   0.0\n",
      "2881  19980101.0 -38.75   3.75   0.0\n",
      "2882  19980101.0 -38.75   6.25   0.0\n",
      "2883  19980101.0 -38.75   8.75   0.0\n",
      "2884  19980101.0 -38.75  11.25   0.0\n"
     ]
    }
   ],
   "source": [
    "# Filter to include only data within LON [160, -160] and LAT [40, -40]\n",
    "# This is done using label-based indexing, loc\n",
    "# and multiple conditional indexing\n",
    "\n",
    "filtered_weather = weather.loc[\n",
    "    (weather.LON >= -160) & (weather.LON <= 160) &\n",
    "    (weather.LAT >= -40) & (weather.LAT <= 40)]\n",
    "\n",
    "# print first 5 rows of the filtered_weather DataFrame\n",
    "print(filtered_weather.head())"
   ]
  },
  {
   "cell_type": "code",
   "execution_count": 7,
   "metadata": {},
   "outputs": [
    {
     "name": "stdout",
     "output_type": "stream",
     "text": [
      "65814528\n"
     ]
    }
   ],
   "source": [
    "# size of the filtered_weather\n",
    "print(filtered_weather.size)"
   ]
  },
  {
   "cell_type": "code",
   "execution_count": 18,
   "metadata": {},
   "outputs": [
    {
     "name": "stdout",
     "output_type": "stream",
     "text": [
      "            TIME    LAT    LON  PREC\n",
      "2880  1998-01-01 -38.75   1.25   0.0\n",
      "2881  1998-01-01 -38.75   3.75   0.0\n",
      "2882  1998-01-01 -38.75   6.25   0.0\n",
      "2883  1998-01-01 -38.75   8.75   0.0\n",
      "2884  1998-01-01 -38.75  11.25   0.0\n"
     ]
    }
   ],
   "source": [
    "from datetime import datetime as dt\n",
    "\n",
    "# Change data value of TIME from float to datetime so it looks pretty\n",
    "time_float_to_str = [\"%8.1f\" % x for x in filtered_weather.TIME[:]]\n",
    "\n",
    "# convert string list into datetime list\n",
    "formatted_dates = (dt.strptime(x, '%Y%m%d.%f').date() for x in time_float_to_str)\n",
    "time_list = [x for x in formatted_dates]\n",
    "\n",
    "# Replace TIME float of the filtered_weather with datetime.date data type\n",
    "filtered_weather['TIME'] = time_list\n",
    "\n",
    "# check out the new DataFrame\n",
    "print(filtered_weather.head())"
   ]
  },
  {
   "cell_type": "code",
   "execution_count": 19,
   "metadata": {},
   "outputs": [],
   "source": [
    "# Creating a new CSV file with the filtered_weather DataFrame\n",
    "filtered_weather.to_csv('~/Desktop/cs_project/filtered_weather.csv')"
   ]
  },
  {
   "cell_type": "code",
   "execution_count": 23,
   "metadata": {},
   "outputs": [
    {
     "name": "stdout",
     "output_type": "stream",
     "text": [
      "                TIME    LAT     LON       PREC\n",
      "2893      1998-01-01 -38.75   33.75   6.367500\n",
      "2894      1998-01-01 -38.75   36.25  10.672501\n",
      "2895      1998-01-01 -38.75   38.75   4.387500\n",
      "2896      1998-01-01 -38.75   41.25  13.710000\n",
      "2897      1998-01-01 -38.75   43.75   9.839999\n",
      "...              ...    ...     ...        ...\n",
      "83293542  2019-12-30  38.75  136.25   5.910000\n",
      "83293543  2019-12-30  38.75  138.75   6.681515\n",
      "83293545  2019-12-30  38.75  143.75   4.642499\n",
      "83293546  2019-12-30  38.75  146.25   1.237500\n",
      "83293547  2019-12-30  38.75  148.75   5.070000\n",
      "\n",
      "[7294559 rows x 4 columns]\n"
     ]
    }
   ],
   "source": [
    "# Finding weather data where the precipitation is greater than 0.00\n",
    "print(filtered_weather.loc[(filtered_weather.PREC > 0.00)])"
   ]
  },
  {
   "cell_type": "code",
   "execution_count": null,
   "metadata": {},
   "outputs": [],
   "source": []
  }
 ],
 "metadata": {
  "kernelspec": {
   "display_name": "Python 3",
   "language": "python",
   "name": "python3"
  },
  "language_info": {
   "codemirror_mode": {
    "name": "ipython",
    "version": 3
   },
   "file_extension": ".py",
   "mimetype": "text/x-python",
   "name": "python",
   "nbconvert_exporter": "python",
   "pygments_lexer": "ipython3",
   "version": "3.8.5"
  }
 },
 "nbformat": 4,
 "nbformat_minor": 4
}
